{
 "cells": [
  {
   "cell_type": "markdown",
   "metadata": {},
   "source": [
    "<div style=\"font-family:Lucida Console\">\n",
    "<h3>--- Day 3: Binary Diagnostic ---</h3>\n",
    "The submarine has been making some odd creaking noises, so you ask it to produce a diagnostic report just in case.\n",
    "\n",
    "The diagnostic report (your puzzle input) consists of a list of binary numbers which, when decoded properly, can tell you many useful things about the conditions of the submarine. The first parameter to check is the power consumption.\n",
    "\n",
    "You need to use the binary numbers in the diagnostic report to generate two new binary numbers (called the gamma rate and the epsilon rate). The power consumption can then be found by multiplying the gamma rate by the epsilon rate.\n",
    "\n",
    "Each bit in the gamma rate can be determined by finding the most common bit in the corresponding position of all numbers in the diagnostic report. For example, given the following diagnostic report:\n",
    "</div>"
   ]
  },
  {
   "cell_type": "markdown",
   "metadata": {},
   "source": [
    "<div style=\"background:black\">\n",
    "<blockquote style=\"font-family:Lucida Console\">\n",
    "00100  <br>\n",
    "11110  <br>\n",
    "10110  <br>\n",
    "10111  <br>\n",
    "10101  <br>\n",
    "01111  <br>\n",
    "00111  <br>\n",
    "11100  <br>\n",
    "10000  <br>\n",
    "11001  <br>\n",
    "00010  <br>\n",
    "01010  <br>\n",
    "</blockquote>\n",
    "</div>"
   ]
  },
  {
   "cell_type": "markdown",
   "metadata": {},
   "source": [
    "<div style=\"font-family:Lucida Console\">\n",
    "Considering only the first bit of each number, there are five 0 bits and seven 1 bits. Since the most common bit is 1, the first bit of the gamma rate is 1.\n",
    "\n",
    "The most common second bit of the numbers in the diagnostic report is 0, so the second bit of the gamma rate is 0.\n",
    "\n",
    "The most common value of the third, fourth, and fifth bits are 1, 1, and 0, respectively, and so the final three bits of the gamma rate are 110.\n",
    "\n",
    "So, the gamma rate is the binary number 10110, or 22 in decimal.\n",
    "\n",
    "The epsilon rate is calculated in a similar way; rather than use the most common bit, the least common bit from each position is used. So, the epsilon rate is 01001, or 9 in decimal. Multiplying the gamma rate (22) by the epsilon rate (9) produces the power consumption, 198.\n",
    "\n",
    "Use the binary numbers in your diagnostic report to calculate the gamma rate and epsilon rate, then multiply them together. What is the power consumption of the submarine? (Be sure to represent your answer in decimal, not binary.)\n",
    "</div>"
   ]
  },
  {
   "cell_type": "code",
   "execution_count": 46,
   "metadata": {},
   "outputs": [],
   "source": [
    "f = open(\"input3.txt\", \"r\")\n",
    "inp = f.read().split('\\n')\n",
    "inp = [x for x in inp if x.strip()]"
   ]
  },
  {
   "cell_type": "code",
   "execution_count": 2,
   "metadata": {},
   "outputs": [],
   "source": [
    "def commonest_chars(strings):\n",
    "    \"\"\"\n",
    "    This function takes a list of strings, and returns a dict of dicts of a size equal to the longest string, with character indexes as keys. det sub-dicts use for keys every char found in that place within a string, and a count of how many times that char was found as values.\n",
    "\n",
    "    example:\n",
    "    commonest_chars(['Advent','of','code'])\n",
    "\n",
    "    returns:\n",
    "    {0: {'A': 1, 'o': 1, 'c': 1},\n",
    "     1: {'d': 1, 'f': 1, 'o': 1},\n",
    "     2: {'v': 1, 'd': 1},\n",
    "     3: {'e': 2},\n",
    "     4: {'n': 1},\n",
    "     5: {'t': 1}}\n",
    "    \"\"\"\n",
    "    result = {}\n",
    "    for s in strings:\n",
    "        for i in range(0,len(s)):\n",
    "            if i not in result.keys():\n",
    "                result[i] = {}\n",
    "            if s[i] in result[i].keys():\n",
    "                result[i][s[i]] = result[i][s[i]] + 1\n",
    "            else: result[i][s[i]] = 1\n",
    "            \n",
    "    return result"
   ]
  },
  {
   "cell_type": "code",
   "execution_count": 143,
   "metadata": {},
   "outputs": [],
   "source": [
    "def get_rates(inputs):\n",
    "    gs = ''\n",
    "    es = ''\n",
    "    char_dict = commonest_chars(inputs)\n",
    "    for i in range(0,len(char_dict)):\n",
    "        gn = -1\n",
    "        g = ''\n",
    "        en = len(inputs)+1\n",
    "        e = ''\n",
    "        for c, j in char_dict[i].items():\n",
    "            n = int(j)\n",
    "            if (en == n) or (gn == n):\n",
    "                g = '1'\n",
    "                e = '0'\n",
    "            else:\n",
    "                if n > gn:\n",
    "                    gn = n\n",
    "                    g = c\n",
    "                if n <= en:\n",
    "                    en = n\n",
    "                    e = c\n",
    "        gs = gs + g\n",
    "        es = es + e\n",
    "    return {'gamma':gs,'epsilon':es}\n",
    "        \n",
    "        "
   ]
  },
  {
   "cell_type": "code",
   "execution_count": 4,
   "metadata": {},
   "outputs": [
    {
     "data": {
      "text/plain": [
       "2"
      ]
     },
     "execution_count": 4,
     "metadata": {},
     "output_type": "execute_result"
    }
   ],
   "source": [
    "int('10',2)"
   ]
  },
  {
   "cell_type": "code",
   "execution_count": 5,
   "metadata": {},
   "outputs": [],
   "source": [
    "dict = {'a': 0}\n",
    "dict['b']= {' ':1}"
   ]
  },
  {
   "cell_type": "code",
   "execution_count": 6,
   "metadata": {},
   "outputs": [
    {
     "data": {
      "text/plain": [
       "{0: {'0': 506, '1': 494},\n",
       " 1: {'1': 498, '0': 502},\n",
       " 2: {'1': 481, '0': 519},\n",
       " 3: {'1': 494, '0': 506},\n",
       " 4: {'1': 523, '0': 477},\n",
       " 5: {'0': 492, '1': 508},\n",
       " 6: {'0': 512, '1': 488},\n",
       " 7: {'1': 491, '0': 509},\n",
       " 8: {'1': 499, '0': 501},\n",
       " 9: {'1': 507, '0': 493},\n",
       " 10: {'1': 530, '0': 470},\n",
       " 11: {'0': 486, '1': 514}}"
      ]
     },
     "execution_count": 6,
     "metadata": {},
     "output_type": "execute_result"
    }
   ],
   "source": [
    "commonest_chars(inp)"
   ]
  },
  {
   "cell_type": "code",
   "execution_count": 144,
   "metadata": {},
   "outputs": [
    {
     "data": {
      "text/plain": [
       "{'gamma': '111ent', 'epsilon': '000ent'}"
      ]
     },
     "execution_count": 144,
     "metadata": {},
     "output_type": "execute_result"
    }
   ],
   "source": [
    "get_rates(['Advent','of','code'])"
   ]
  },
  {
   "cell_type": "code",
   "execution_count": 8,
   "metadata": {},
   "outputs": [
    {
     "data": {
      "text/plain": [
       "{0: {'A': 1, 'o': 1, 'c': 1},\n",
       " 1: {'d': 1, 'f': 1, 'o': 1},\n",
       " 2: {'v': 1, 'd': 1},\n",
       " 3: {'e': 2},\n",
       " 4: {'n': 1},\n",
       " 5: {'t': 1}}"
      ]
     },
     "execution_count": 8,
     "metadata": {},
     "output_type": "execute_result"
    }
   ],
   "source": [
    "commonest_chars(['Advent','of','code'])"
   ]
  },
  {
   "cell_type": "code",
   "execution_count": 138,
   "metadata": {},
   "outputs": [],
   "source": [
    "binary = get_rates(inp)"
   ]
  },
  {
   "cell_type": "code",
   "execution_count": 139,
   "metadata": {},
   "outputs": [
    {
     "data": {
      "text/plain": [
       "{'gamma': '000011000111', 'epsilon': '111100111000'}"
      ]
     },
     "execution_count": 139,
     "metadata": {},
     "output_type": "execute_result"
    }
   ],
   "source": [
    "binary"
   ]
  },
  {
   "cell_type": "code",
   "execution_count": 140,
   "metadata": {},
   "outputs": [
    {
     "name": "stdout",
     "output_type": "stream",
     "text": [
      "775304\n"
     ]
    }
   ],
   "source": [
    "answer = int(binary['gamma'],2) * int(binary['epsilon'],2)\n",
    "print(answer)"
   ]
  },
  {
   "cell_type": "markdown",
   "metadata": {},
   "source": [
    "<div style=\"font-family:Lucida Console\">\n",
    "    <h3>--- Part Two ---</h3>\n",
    "Next, you should verify the life support rating, which can be determined by multiplying the oxygen generator rating by the CO2 scrubber rating.\n",
    "\n",
    "Both the oxygen generator rating and the CO2 scrubber rating are values that can be found in your diagnostic report - finding them is the tricky part. Both values are located using a similar process that involves filtering out values until only one remains. Before searching for either rating value, start with the full list of binary numbers from your diagnostic report and consider just the first bit of those numbers. Then:\n",
    "\n",
    "Keep only numbers selected by the bit criteria for the type of rating value for which you are searching. Discard numbers which do not match the bit criteria.\n",
    "If you only have one number left, stop; this is the rating value for which you are searching.\n",
    "Otherwise, repeat the process, considering the next bit to the right.\n",
    "The bit criteria depends on which type of rating value you want to find:\n",
    "\n",
    "To find oxygen generator rating, determine the most common value (0 or 1) in the current bit position, and keep only numbers with that bit in that position. If 0 and 1 are equally common, keep values with a 1 in the position being considered.\n",
    "To find CO2 scrubber rating, determine the least common value (0 or 1) in the current bit position, and keep only numbers with that bit in that position. If 0 and 1 are equally common, keep values with a 0 in the position being considered.\n",
    "For example, to determine the oxygen generator rating value using the same example diagnostic report from above:\n",
    "\n",
    "Start with all 12 numbers and consider only the first bit of each number. There are more 1 bits (7) than 0 bits (5), so keep only the 7 numbers with a 1 in the first position: 11110, 10110, 10111, 10101, 11100, 10000, and 11001.\n",
    "Then, consider the second bit of the 7 remaining numbers: there are more 0 bits (4) than 1 bits (3), so keep only the 4 numbers with a 0 in the second position: 10110, 10111, 10101, and 10000.\n",
    "In the third position, three of the four numbers have a 1, so keep those three: 10110, 10111, and 10101.\n",
    "In the fourth position, two of the three numbers have a 1, so keep those two: 10110 and 10111.\n",
    "In the fifth position, there are an equal number of 0 bits and 1 bits (one each). So, to find the oxygen generator rating, keep the number with a 1 in that position: 10111.\n",
    "As there is only one number left, stop; the oxygen generator rating is 10111, or 23 in decimal.\n",
    "Then, to determine the CO2 scrubber rating value from the same example above:\n",
    "\n",
    "Start again with all 12 numbers and consider only the first bit of each number. There are fewer 0 bits (5) than 1 bits (7), so keep only the 5 numbers with a 0 in the first position: 00100, 01111, 00111, 00010, and 01010.\n",
    "Then, consider the second bit of the 5 remaining numbers: there are fewer 1 bits (2) than 0 bits (3), so keep only the 2 numbers with a 1 in the second position: 01111 and 01010.\n",
    "In the third position, there are an equal number of 0 bits and 1 bits (one each). So, to find the CO2 scrubber rating, keep the number with a 0 in that position: 01010.\n",
    "As there is only one number left, stop; the CO2 scrubber rating is 01010, or 10 in decimal.\n",
    "Finally, to find the life support rating, multiply the oxygen generator rating (23) by the CO2 scrubber rating (10) to get 230.\n",
    "\n",
    "Use the binary numbers in your diagnostic report to calculate the oxygen generator rating and CO2 scrubber rating, then multiply them together. What is the life support rating of the submarine? (Be sure to represent your answer in decimal, not binary.)\n",
    "<div>"
   ]
  },
  {
   "cell_type": "code",
   "execution_count": 145,
   "metadata": {},
   "outputs": [],
   "source": [
    "def get_rating(inp): # Bad name\n",
    "    o2 = inp.copy()\n",
    "    co2 = o2.copy()\n",
    "    for i in range(12):\n",
    "        if len(o2) > 1:\n",
    "            fg = int(get_rates(o2)['gamma'][i])\n",
    "            for j in range (len(o2) - 1,-1,-1):\n",
    "                if (int(o2[j][i]) != fg):\n",
    "                    del o2[j]\n",
    "        if len(co2) > 1:\n",
    "            fe = int(get_rates(co2)['epsilon'][i])\n",
    "            for k in range (len(co2) - 1,-1,-1):\n",
    "                if (int(co2[k][i]) != fe):\n",
    "                    del co2[k]\n",
    "    return {'o2':o2[0],'co2':co2[0]}"
   ]
  },
  {
   "cell_type": "code",
   "execution_count": 146,
   "metadata": {},
   "outputs": [],
   "source": [
    "answerr = get_rating(inp)"
   ]
  },
  {
   "cell_type": "code",
   "execution_count": 147,
   "metadata": {},
   "outputs": [
    {
     "data": {
      "text/plain": [
       "{'o2': '000111111101', 'co2': '101010000101'}"
      ]
     },
     "execution_count": 147,
     "metadata": {},
     "output_type": "execute_result"
    }
   ],
   "source": [
    "answerr"
   ]
  },
  {
   "cell_type": "code",
   "execution_count": 148,
   "metadata": {},
   "outputs": [
    {
     "data": {
      "text/plain": [
       "1370737"
      ]
     },
     "execution_count": 148,
     "metadata": {},
     "output_type": "execute_result"
    }
   ],
   "source": [
    "int(answerr['o2'],2) * int(answerr['co2'],2)"
   ]
  },
  {
   "cell_type": "code",
   "execution_count": 67,
   "metadata": {},
   "outputs": [
    {
     "data": {
      "text/plain": [
       "{'gamma': '000011000111', 'epsilon': '111100111000'}"
      ]
     },
     "execution_count": 67,
     "metadata": {},
     "output_type": "execute_result"
    }
   ],
   "source": [
    "binary"
   ]
  },
  {
   "cell_type": "code",
   "execution_count": null,
   "metadata": {},
   "outputs": [],
   "source": []
  }
 ],
 "metadata": {
  "kernelspec": {
   "display_name": "Python 3",
   "language": "python",
   "name": "python3"
  },
  "language_info": {
   "codemirror_mode": {
    "name": "ipython",
    "version": 3
   },
   "file_extension": ".py",
   "mimetype": "text/x-python",
   "name": "python",
   "nbconvert_exporter": "python",
   "pygments_lexer": "ipython3",
   "version": "3.8.5"
  }
 },
 "nbformat": 4,
 "nbformat_minor": 4
}
