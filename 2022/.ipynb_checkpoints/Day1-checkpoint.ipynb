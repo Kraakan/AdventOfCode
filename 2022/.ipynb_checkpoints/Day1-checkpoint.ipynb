{
 "cells": [
  {
   "cell_type": "markdown",
   "id": "4363d345",
   "metadata": {},
   "source": [
    "<div style=\"font-family:Lucida Console\">\n",
    "<h3>--- Day 1: Calorie Counting ---</h3>\n",
    "    \n",
    "    The jungle must be too overgrown and difficult to navigate in vehicles or access from the air; the Elves' expedition traditionally goes on foot. As your boats approach land, the Elves begin taking inventory of their supplies. One important consideration is food - in particular, the number of Calories each Elf is carrying (your puzzle input).\n",
    "\n",
    "    The Elves take turns writing down the number of Calories contained by the various meals, snacks, rations, etc. that they've brought with them, one item per line. Each Elf separates their own inventory from the previous Elf's inventory (if any) by a blank line.\n",
    "\n",
    "    For example, suppose the Elves finish writing their items' Calories and end up with the following list:\n",
    "    \n",
    "\n",
    "    1000\n",
    "    2000\n",
    "    3000\n",
    "\n",
    "    4000\n",
    "\n",
    "    5000\n",
    "    6000\n",
    "    \n",
    "    7000\n",
    "    8000\n",
    "    9000\n",
    "\n",
    "    10000\n",
    "    \n",
    "    This list represents the Calories of the food carried by five Elves:\n",
    "\n",
    "    The first Elf is carrying food with 1000, 2000, and 3000 Calories, a total of 6000 Calories.\n",
    "    The second Elf is carrying one food item with 4000 Calories.\n",
    "    The third Elf is carrying food with 5000 and 6000 Calories, a total of 11000 Calories.\n",
    "    The fourth Elf is carrying food with 7000, 8000, and 9000 Calories, a total of 24000 Calories.\n",
    "    The fifth Elf is carrying one food item with 10000 Calories.\n",
    "\n",
    "    In case the Elves get hungry and need extra snacks, they need to know which Elf to ask: they'd like to know how many Calories are being carried by the Elf carrying the most Calories. In the example above, this is 24000 (carried by the fourth Elf).\n",
    "\n",
    "    Find the Elf carrying the most Calories. How many total Calories is that Elf carrying?\n",
    "</div>"
   ]
  },
  {
   "cell_type": "code",
   "execution_count": 1,
   "id": "d8ac5af8",
   "metadata": {},
   "outputs": [],
   "source": [
    "f = open(\"input_day1\", \"r\")\n",
    "inp = f.read().split('\\n\\n')"
   ]
  },
  {
   "cell_type": "code",
   "execution_count": 2,
   "id": "f7f78867",
   "metadata": {},
   "outputs": [],
   "source": [
    "elves = []\n",
    "for i in inp:\n",
    "    elves.append(i.split('\\n'))"
   ]
  },
  {
   "cell_type": "code",
   "execution_count": 11,
   "id": "d86abddc",
   "metadata": {},
   "outputs": [
    {
     "name": "stdout",
     "output_type": "stream",
     "text": [
      "Elf number 127 is carrying this: ['15032', '13087', '15206', '12255', '16354'] in toal 71934 calories\n"
     ]
    }
   ],
   "source": [
    "def get_greediest_elf_index(elves):\n",
    "    most_calories = 0\n",
    "    snackiest = None\n",
    "    for number, elf in enumerate(elves):\n",
    "        calories = 0\n",
    "        for food in elf:\n",
    "            if len(food) > 0:\n",
    "                calories += int(food)\n",
    "        if calories > most_calories:\n",
    "            most_calories = calories\n",
    "            snackiest = number\n",
    "    return snackiest\n",
    "snackiest_elf = get_greediest_elf_index(elves)\n",
    "most_calories = sum(map(int,elves[snackiest_elf]))\n",
    "print('Elf number',snackiest_elf,'is carrying this:',elves[snackiest_elf],'in toal', most_calories, 'calories')"
   ]
  },
  {
   "cell_type": "markdown",
   "id": "b113c79c",
   "metadata": {},
   "source": [
    "<div style=\"font-family:Lucida Console\">\n",
    "   <h4>--- Part Two ---</h4>\n",
    "\n",
    "    By the time you calculate the answer to the Elves' question, they've already realized that the Elf carrying the most Calories of food might eventually run out of snacks.\n",
    "\n",
    "    To avoid this unacceptable situation, the Elves would instead like to know the total Calories carried by the top three Elves carrying the most Calories. That way, even if one of those Elves runs out of snacks, they still have two backups.\n",
    "\n",
    "    In the example above, the top three Elves are the fourth Elf (with 24000 Calories), then the third Elf (with 11000 Calories), then the fifth Elf (with 10000 Calories). The sum of the Calories carried by these three elves is 45000.\n",
    "\n",
    "    Find the top three Elves carrying the most Calories. How many Calories are those Elves carrying in total?\n",
    "</div>"
   ]
  },
  {
   "cell_type": "code",
   "execution_count": 14,
   "id": "c41f6346",
   "metadata": {},
   "outputs": [],
   "source": [
    "candy_carriers = []\n",
    "loop_list = elves.copy()\n",
    "while len(candy_carriers)<3:\n",
    "    index = get_greediest_elf_index(loop_list)\n",
    "    candy_carriers.append(loop_list[index])\n",
    "    loop_list.pop(index)"
   ]
  },
  {
   "cell_type": "code",
   "execution_count": 18,
   "id": "423b3504",
   "metadata": {},
   "outputs": [
    {
     "name": "stdout",
     "output_type": "stream",
     "text": [
      "211447\n"
     ]
    }
   ],
   "source": [
    "total_candy = 0\n",
    "for elf in candy_carriers:\n",
    "    total_candy = total_candy + sum(map(int,elf))\n",
    "print(total_candy)"
   ]
  },
  {
   "cell_type": "code",
   "execution_count": null,
   "id": "ce20029a",
   "metadata": {},
   "outputs": [],
   "source": []
  }
 ],
 "metadata": {
  "kernelspec": {
   "display_name": "Python 3 (ipykernel)",
   "language": "python",
   "name": "python3"
  },
  "language_info": {
   "codemirror_mode": {
    "name": "ipython",
    "version": 3
   },
   "file_extension": ".py",
   "mimetype": "text/x-python",
   "name": "python",
   "nbconvert_exporter": "python",
   "pygments_lexer": "ipython3",
   "version": "3.10.6"
  }
 },
 "nbformat": 4,
 "nbformat_minor": 5
}
